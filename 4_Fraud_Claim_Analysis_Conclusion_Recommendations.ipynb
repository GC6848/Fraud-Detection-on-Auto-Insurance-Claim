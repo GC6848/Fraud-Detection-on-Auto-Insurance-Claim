{
 "cells": [
  {
   "cell_type": "markdown",
   "id": "abb06882-528c-498f-818f-af6ceda614e5",
   "metadata": {},
   "source": [
    "# Project Capstone: Fraud Detection on Auto Insurance Claims\n",
    "**Notebook 4: Fraud Claim Analysis, Conclusion & Recommendations**"
   ]
  },
  {
   "cell_type": "markdown",
   "id": "8e833ebe-e104-4da3-a3fa-d9bc49ebb050",
   "metadata": {},
   "source": [
    "## TABLE OF CONTENTS"
   ]
  },
  {
   "cell_type": "markdown",
   "id": "520fc272-f12c-47f0-8f34-e4555d7c35b0",
   "metadata": {},
   "source": [
    "**1. Understanding Data** <br>\n",
    "**2. Preprocessing** <br>\n",
    "**3. Feature Engineering, Modelling, Feature Selection, Hyperparameter Tuning and Final Model** <br>\n",
    "**4. Fraud Claim Analysis, Conclusion & Recommendations (This Notebook)** <br>\n",
    "- [Fraud Claim Analysis](#Fraud-Claim-Analysis) <br>\n",
    "- [Conclusion](#Conclusion) <br>\n",
    "- [Recommendations](#Recommendations) <br>\n",
    "- [Tableau Dashboard](#Tableau-Dashboard) <br>"
   ]
  },
  {
   "cell_type": "markdown",
   "id": "60c58f9e-2705-449a-bd3d-53c7f19affaa",
   "metadata": {},
   "source": [
    "### Import Libraries"
   ]
  },
  {
   "cell_type": "code",
   "execution_count": 1,
   "id": "6391b98f-9e9c-4b06-a1b1-d807278e8da3",
   "metadata": {},
   "outputs": [],
   "source": [
    "# Import library\n",
    "import pandas as pd"
   ]
  },
  {
   "cell_type": "markdown",
   "id": "364c0478-d3a5-4631-b4d6-2cf2b5d18f89",
   "metadata": {
    "tags": []
   },
   "source": [
    "### Import Data"
   ]
  },
  {
   "cell_type": "code",
   "execution_count": 2,
   "id": "5047b5b2-c581-4dac-993d-a2a9abc2a2a5",
   "metadata": {},
   "outputs": [],
   "source": [
    "# Read data from csv file.\n",
    "auto_insurance_dataframe = pd.read_csv(\"./datasets/auto_insurance_claims_data.csv\")\n",
    "\n",
    "# Increase display range for easier viewing and EDA.\n",
    "pd.options.display.max_columns = None\n",
    "pd.options.display.max_rows = None"
   ]
  },
  {
   "cell_type": "code",
   "execution_count": 3,
   "id": "c2f36bc3-04a3-4c30-99f0-c358619a4cbc",
   "metadata": {},
   "outputs": [],
   "source": [
    "### Visualize Data"
   ]
  },
  {
   "cell_type": "code",
   "execution_count": 4,
   "id": "02d33768-0994-4531-96f2-64ace863ba0a",
   "metadata": {},
   "outputs": [
    {
     "name": "stdout",
     "output_type": "stream",
     "text": [
      "Shape: (1000, 40)\n"
     ]
    }
   ],
   "source": [
    "# Print number of rows and columns in dataframe.\n",
    "print(f\"Shape:\", auto_insurance_dataframe.shape)"
   ]
  },
  {
   "cell_type": "code",
   "execution_count": 5,
   "id": "a7acea6c-cab6-4e5b-a2c7-749d5d08781b",
   "metadata": {},
   "outputs": [
    {
     "data": {
      "text/html": [
       "<div>\n",
       "<style scoped>\n",
       "    .dataframe tbody tr th:only-of-type {\n",
       "        vertical-align: middle;\n",
       "    }\n",
       "\n",
       "    .dataframe tbody tr th {\n",
       "        vertical-align: top;\n",
       "    }\n",
       "\n",
       "    .dataframe thead th {\n",
       "        text-align: right;\n",
       "    }\n",
       "</style>\n",
       "<table border=\"1\" class=\"dataframe\">\n",
       "  <thead>\n",
       "    <tr style=\"text-align: right;\">\n",
       "      <th></th>\n",
       "      <th>months_as_customer</th>\n",
       "      <th>age</th>\n",
       "      <th>policy_number</th>\n",
       "      <th>policy_bind_date</th>\n",
       "      <th>policy_state</th>\n",
       "      <th>policy_csl</th>\n",
       "      <th>policy_deductable</th>\n",
       "      <th>policy_annual_premium</th>\n",
       "      <th>umbrella_limit</th>\n",
       "      <th>insured_zip</th>\n",
       "      <th>insured_sex</th>\n",
       "      <th>insured_education_level</th>\n",
       "      <th>insured_occupation</th>\n",
       "      <th>insured_hobbies</th>\n",
       "      <th>insured_relationship</th>\n",
       "      <th>capital-gains</th>\n",
       "      <th>capital-loss</th>\n",
       "      <th>incident_date</th>\n",
       "      <th>incident_type</th>\n",
       "      <th>collision_type</th>\n",
       "      <th>incident_severity</th>\n",
       "      <th>authorities_contacted</th>\n",
       "      <th>incident_state</th>\n",
       "      <th>incident_city</th>\n",
       "      <th>incident_location</th>\n",
       "      <th>incident_hour_of_the_day</th>\n",
       "      <th>number_of_vehicles_involved</th>\n",
       "      <th>property_damage</th>\n",
       "      <th>bodily_injuries</th>\n",
       "      <th>witnesses</th>\n",
       "      <th>police_report_available</th>\n",
       "      <th>total_claim_amount</th>\n",
       "      <th>injury_claim</th>\n",
       "      <th>property_claim</th>\n",
       "      <th>vehicle_claim</th>\n",
       "      <th>auto_make</th>\n",
       "      <th>auto_model</th>\n",
       "      <th>auto_year</th>\n",
       "      <th>fraud_reported</th>\n",
       "      <th>_c39</th>\n",
       "    </tr>\n",
       "  </thead>\n",
       "  <tbody>\n",
       "    <tr>\n",
       "      <th>0</th>\n",
       "      <td>328</td>\n",
       "      <td>48</td>\n",
       "      <td>521585</td>\n",
       "      <td>2014-10-17</td>\n",
       "      <td>OH</td>\n",
       "      <td>250/500</td>\n",
       "      <td>1000</td>\n",
       "      <td>1406.91</td>\n",
       "      <td>0</td>\n",
       "      <td>466132</td>\n",
       "      <td>MALE</td>\n",
       "      <td>MD</td>\n",
       "      <td>craft-repair</td>\n",
       "      <td>sleeping</td>\n",
       "      <td>husband</td>\n",
       "      <td>53300</td>\n",
       "      <td>0</td>\n",
       "      <td>2015-01-25</td>\n",
       "      <td>Single Vehicle Collision</td>\n",
       "      <td>Side Collision</td>\n",
       "      <td>Major Damage</td>\n",
       "      <td>Police</td>\n",
       "      <td>SC</td>\n",
       "      <td>Columbus</td>\n",
       "      <td>9935 4th Drive</td>\n",
       "      <td>5</td>\n",
       "      <td>1</td>\n",
       "      <td>YES</td>\n",
       "      <td>1</td>\n",
       "      <td>2</td>\n",
       "      <td>YES</td>\n",
       "      <td>71610</td>\n",
       "      <td>6510</td>\n",
       "      <td>13020</td>\n",
       "      <td>52080</td>\n",
       "      <td>Saab</td>\n",
       "      <td>92x</td>\n",
       "      <td>2004</td>\n",
       "      <td>Y</td>\n",
       "      <td>NaN</td>\n",
       "    </tr>\n",
       "    <tr>\n",
       "      <th>1</th>\n",
       "      <td>228</td>\n",
       "      <td>42</td>\n",
       "      <td>342868</td>\n",
       "      <td>2006-06-27</td>\n",
       "      <td>IN</td>\n",
       "      <td>250/500</td>\n",
       "      <td>2000</td>\n",
       "      <td>1197.22</td>\n",
       "      <td>5000000</td>\n",
       "      <td>468176</td>\n",
       "      <td>MALE</td>\n",
       "      <td>MD</td>\n",
       "      <td>machine-op-inspct</td>\n",
       "      <td>reading</td>\n",
       "      <td>other-relative</td>\n",
       "      <td>0</td>\n",
       "      <td>0</td>\n",
       "      <td>2015-01-21</td>\n",
       "      <td>Vehicle Theft</td>\n",
       "      <td>?</td>\n",
       "      <td>Minor Damage</td>\n",
       "      <td>Police</td>\n",
       "      <td>VA</td>\n",
       "      <td>Riverwood</td>\n",
       "      <td>6608 MLK Hwy</td>\n",
       "      <td>8</td>\n",
       "      <td>1</td>\n",
       "      <td>?</td>\n",
       "      <td>0</td>\n",
       "      <td>0</td>\n",
       "      <td>?</td>\n",
       "      <td>5070</td>\n",
       "      <td>780</td>\n",
       "      <td>780</td>\n",
       "      <td>3510</td>\n",
       "      <td>Mercedes</td>\n",
       "      <td>E400</td>\n",
       "      <td>2007</td>\n",
       "      <td>Y</td>\n",
       "      <td>NaN</td>\n",
       "    </tr>\n",
       "    <tr>\n",
       "      <th>2</th>\n",
       "      <td>134</td>\n",
       "      <td>29</td>\n",
       "      <td>687698</td>\n",
       "      <td>2000-09-06</td>\n",
       "      <td>OH</td>\n",
       "      <td>100/300</td>\n",
       "      <td>2000</td>\n",
       "      <td>1413.14</td>\n",
       "      <td>5000000</td>\n",
       "      <td>430632</td>\n",
       "      <td>FEMALE</td>\n",
       "      <td>PhD</td>\n",
       "      <td>sales</td>\n",
       "      <td>board-games</td>\n",
       "      <td>own-child</td>\n",
       "      <td>35100</td>\n",
       "      <td>0</td>\n",
       "      <td>2015-02-22</td>\n",
       "      <td>Multi-vehicle Collision</td>\n",
       "      <td>Rear Collision</td>\n",
       "      <td>Minor Damage</td>\n",
       "      <td>Police</td>\n",
       "      <td>NY</td>\n",
       "      <td>Columbus</td>\n",
       "      <td>7121 Francis Lane</td>\n",
       "      <td>7</td>\n",
       "      <td>3</td>\n",
       "      <td>NO</td>\n",
       "      <td>2</td>\n",
       "      <td>3</td>\n",
       "      <td>NO</td>\n",
       "      <td>34650</td>\n",
       "      <td>7700</td>\n",
       "      <td>3850</td>\n",
       "      <td>23100</td>\n",
       "      <td>Dodge</td>\n",
       "      <td>RAM</td>\n",
       "      <td>2007</td>\n",
       "      <td>N</td>\n",
       "      <td>NaN</td>\n",
       "    </tr>\n",
       "  </tbody>\n",
       "</table>\n",
       "</div>"
      ],
      "text/plain": [
       "   months_as_customer  age  policy_number policy_bind_date policy_state  \\\n",
       "0                 328   48         521585       2014-10-17           OH   \n",
       "1                 228   42         342868       2006-06-27           IN   \n",
       "2                 134   29         687698       2000-09-06           OH   \n",
       "\n",
       "  policy_csl  policy_deductable  policy_annual_premium  umbrella_limit  \\\n",
       "0    250/500               1000                1406.91               0   \n",
       "1    250/500               2000                1197.22         5000000   \n",
       "2    100/300               2000                1413.14         5000000   \n",
       "\n",
       "   insured_zip insured_sex insured_education_level insured_occupation  \\\n",
       "0       466132        MALE                      MD       craft-repair   \n",
       "1       468176        MALE                      MD  machine-op-inspct   \n",
       "2       430632      FEMALE                     PhD              sales   \n",
       "\n",
       "  insured_hobbies insured_relationship  capital-gains  capital-loss  \\\n",
       "0        sleeping              husband          53300             0   \n",
       "1         reading       other-relative              0             0   \n",
       "2     board-games            own-child          35100             0   \n",
       "\n",
       "  incident_date             incident_type  collision_type incident_severity  \\\n",
       "0    2015-01-25  Single Vehicle Collision  Side Collision      Major Damage   \n",
       "1    2015-01-21             Vehicle Theft               ?      Minor Damage   \n",
       "2    2015-02-22   Multi-vehicle Collision  Rear Collision      Minor Damage   \n",
       "\n",
       "  authorities_contacted incident_state incident_city  incident_location  \\\n",
       "0                Police             SC      Columbus     9935 4th Drive   \n",
       "1                Police             VA     Riverwood       6608 MLK Hwy   \n",
       "2                Police             NY      Columbus  7121 Francis Lane   \n",
       "\n",
       "   incident_hour_of_the_day  number_of_vehicles_involved property_damage  \\\n",
       "0                         5                            1             YES   \n",
       "1                         8                            1               ?   \n",
       "2                         7                            3              NO   \n",
       "\n",
       "   bodily_injuries  witnesses police_report_available  total_claim_amount  \\\n",
       "0                1          2                     YES               71610   \n",
       "1                0          0                       ?                5070   \n",
       "2                2          3                      NO               34650   \n",
       "\n",
       "   injury_claim  property_claim  vehicle_claim auto_make auto_model  \\\n",
       "0          6510           13020          52080      Saab        92x   \n",
       "1           780             780           3510  Mercedes       E400   \n",
       "2          7700            3850          23100     Dodge        RAM   \n",
       "\n",
       "   auto_year fraud_reported  _c39  \n",
       "0       2004              Y   NaN  \n",
       "1       2007              Y   NaN  \n",
       "2       2007              N   NaN  "
      ]
     },
     "execution_count": 5,
     "metadata": {},
     "output_type": "execute_result"
    }
   ],
   "source": [
    "# Display first 3 rows of dataframe.\n",
    "auto_insurance_dataframe.head(3)"
   ]
  },
  {
   "cell_type": "markdown",
   "id": "ff4f21f8-e7c1-4158-b757-c1d4acc7b985",
   "metadata": {},
   "source": [
    "# Fraud Claim Analysis"
   ]
  },
  {
   "cell_type": "markdown",
   "id": "ba58cafc-f77f-432a-92a8-ac9845789a4c",
   "metadata": {},
   "source": [
    "## Policy Annual Premium"
   ]
  },
  {
   "cell_type": "markdown",
   "id": "74a49650-2f4b-49be-acd1-3e123a4599f6",
   "metadata": {},
   "source": [
    "In this section, policy annual premium will be analyzed in details and by different features."
   ]
  },
  {
   "cell_type": "markdown",
   "id": "2ed84e6a-6664-49aa-8972-efcf6afe50e7",
   "metadata": {},
   "source": [
    "### Total Policy Annual Premium and Total Policy Count"
   ]
  },
  {
   "cell_type": "code",
   "execution_count": 6,
   "id": "6e683a6c-39a4-42e2-8609-912c76e2b9e2",
   "metadata": {},
   "outputs": [
    {
     "name": "stdout",
     "output_type": "stream",
     "text": [
      "Policy Annual Premium: $1,256,406\n"
     ]
    }
   ],
   "source": [
    "# Calculate total policy annual premium.\n",
    "policy_annual_premium = auto_insurance_dataframe[\"policy_annual_premium\"].sum()\n",
    "\n",
    "# Print total policy annual premium.\n",
    "print(\"Policy Annual Premium: $\" + '{:,}'.format(round(policy_annual_premium, )))"
   ]
  },
  {
   "cell_type": "code",
   "execution_count": 7,
   "id": "6ef631af-ff01-4eee-a114-72a2ba24e0d9",
   "metadata": {},
   "outputs": [
    {
     "name": "stdout",
     "output_type": "stream",
     "text": [
      "Policy Count: 1,000\n"
     ]
    }
   ],
   "source": [
    "# Calculate total policy count.\n",
    "policy_count = auto_insurance_dataframe[\"policy_number\"].count()\n",
    "\n",
    "# Print total policy count.\n",
    "print(\"Policy Count: \" + '{:,}'.format(round(policy_count, )))"
   ]
  },
  {
   "cell_type": "code",
   "execution_count": 8,
   "id": "b212d90b-2408-4dd1-b905-1714f82fcff7",
   "metadata": {},
   "outputs": [
    {
     "name": "stdout",
     "output_type": "stream",
     "text": [
      "Annual Premium Per Policy: $1,256\n"
     ]
    }
   ],
   "source": [
    "# Calculate premium per policy.\n",
    "premium_per_policy = policy_annual_premium / policy_count\n",
    "\n",
    "# Print total premium per policy.\n",
    "print(\"Annual Premium Per Policy: $\" + '{:,}'.format(round(premium_per_policy, )))"
   ]
  },
  {
   "cell_type": "markdown",
   "id": "80e4c661-8702-41ea-93f4-4d788010cc81",
   "metadata": {},
   "source": [
    "### Policy Annual Premium and Policy Count Breakdown By Gender"
   ]
  },
  {
   "cell_type": "markdown",
   "id": "7684bc6d-0e25-4abd-b020-4234e140a6b6",
   "metadata": {},
   "source": [
    "![image.png](./images/tableau_policy_by_premium_by_count_gender.png)\n",
    "![image.png](./images/tableau_annual_premium_per_policy_count_by_gender.png)"
   ]
  },
  {
   "cell_type": "markdown",
   "id": "b9d94e2c-7787-41bf-a71a-be3bb20e1106",
   "metadata": {},
   "source": [
    "### Policy Annual Premium and Policy Count Breakdown By Policy Issuance State"
   ]
  },
  {
   "cell_type": "markdown",
   "id": "f5c5d012-5b50-47af-b861-d0cb503452f0",
   "metadata": {},
   "source": [
    "![image.png](./images/tableau_policy_annual_premium_policy_count_by_state.png)\n",
    "![image.png](./images/tableau_policy_annual_premium_per_policy_count_by_state.png)"
   ]
  },
  {
   "cell_type": "markdown",
   "id": "d164850e-30c3-40ce-940b-9f256c71ad18",
   "metadata": {},
   "source": [
    "### Policy Annual Premium and Policy Count Breakdown By Policy Bind Year"
   ]
  },
  {
   "cell_type": "markdown",
   "id": "baef6c18-ceb3-475e-867c-3877c872dea2",
   "metadata": {},
   "source": [
    "![image.png](./images/tableau_premium_policy_annual_premium_policy_count_policy_bind_year.png)\n",
    "![image.png](./images/tableau_premium_per_policy_by_policy_bind_year.png)"
   ]
  },
  {
   "cell_type": "markdown",
   "id": "bd0abd00-bea9-42f6-9733-5c23b7a353d8",
   "metadata": {},
   "source": [
    "### Policy Annual Premium and Policy Count Breakdown By Insured's Occupation"
   ]
  },
  {
   "cell_type": "markdown",
   "id": "3c97658d-a19f-4407-81fe-a97b3242cb95",
   "metadata": {},
   "source": [
    "![image.png](./images/tableau_policy_annual_premium_count_by_insured_occupation.png)\n",
    "![image.png](./images/tableau_policy_annual_premium_per_policy_count_by_insured_occupation.png)"
   ]
  },
  {
   "cell_type": "markdown",
   "id": "bf4553f8-fe6b-4c78-8e75-1db4d7d625fd",
   "metadata": {},
   "source": [
    "**Observations**:\n",
    "- Total policy premium collected from 1,000 policies was \\$1,256,406 with premium per policy at about \\\\$1,256 (rounded to nearest dollar amount).\n",
    "- Policy Annual Premium and Policy Count Breakdown By Gender\n",
    "    - Between 2 gender, policy count and policy premium by female were higher than that of male. It suggests that female bought more policies and paid more policy premium than that of male.\n",
    "    - However, annual policy premium per policy by male was \\$1,267 , which was higher than that of female at \\\\$1,248. It suggests that, in each policy, male paid higher premium than that of female.\n",
    "- Policy Annual Premium and Policy Count Breakdown By State\n",
    "    - Policy annual premium, policy count and policy annual premium per policy by Ohio were \\$443,674, 352 and \\\\$1,260 respectively, which were the highest among all 3 states.\n",
    "- Policy Annual Premium and Policy Count Breakdown By Policy Bind Year\n",
    "    - Among all policy bind years, policy bind year 1991 had the highest policy annual premium, policy count and annual premium per policy count at \\\\$72,485, 55 and \\\\$1,318 respectively. In contrast, policy bind year 2015 had the lowest policy annual premium and policy count at \\$3,728 and 3 respectively; and policy bind year 2005 had the lowest annual premium per policy count at \\\\$1,204.\n",
    "- Policy Annual Premium and Policy Count Breakdown By Insured's Occupation\n",
    "    - Among all insured's occupations, machine-op-inspct had the highest policy annual premium and policy count at \\\\$113,681 and 93 respectively. In contrast, farming-fishing had the lowest policy annual premium and policy count at \\$67,773 and 53 respectively. \n",
    "    - Nonetheless, insured's occupation: other-service, had the highest policy annual premium per policy count at \\\\$1,307."
   ]
  },
  {
   "cell_type": "markdown",
   "id": "d91cb66b-c335-4564-aab5-42ecabe98544",
   "metadata": {},
   "source": [
    "## Claim"
   ]
  },
  {
   "cell_type": "markdown",
   "id": "f87dcc79-e091-4b5f-a0cb-789fa876712f",
   "metadata": {},
   "source": [
    "In this section, claim will be analyzed in details and by different features."
   ]
  },
  {
   "cell_type": "markdown",
   "id": "6f75a98a-b400-4985-8d25-13837bf2d13b",
   "metadata": {
    "tags": []
   },
   "source": [
    "### Total Claim Amount and Total Claim Count"
   ]
  },
  {
   "cell_type": "code",
   "execution_count": 9,
   "id": "e1272a3d-ae35-4784-aeb4-6ee8e0659bdc",
   "metadata": {},
   "outputs": [
    {
     "name": "stdout",
     "output_type": "stream",
     "text": [
      "Total Claim Amount: $52,761,940\n"
     ]
    }
   ],
   "source": [
    "# Calculate total claim amount.\n",
    "total_claim_amount = auto_insurance_dataframe[\"total_claim_amount\"].sum()\n",
    "\n",
    "# Print total claim amount.\n",
    "print(\"Total Claim Amount: $\" + '{:,}'.format(round(total_claim_amount, )))"
   ]
  },
  {
   "cell_type": "code",
   "execution_count": 10,
   "id": "8db3475c-2216-40b9-b1e2-219d3a14341d",
   "metadata": {},
   "outputs": [
    {
     "name": "stdout",
     "output_type": "stream",
     "text": [
      "Total Claim Count: 1,000\n"
     ]
    }
   ],
   "source": [
    "# Calculate total claim count.\n",
    "claim_count = auto_insurance_dataframe[\"total_claim_amount\"].count()\n",
    "\n",
    "# Print total ciam count.\n",
    "print(\"Total Claim Count: \" + '{:,}'.format(round(claim_count, )))"
   ]
  },
  {
   "cell_type": "code",
   "execution_count": 11,
   "id": "c34f92c9-eb0a-4af1-af7f-da218e409eaa",
   "metadata": {},
   "outputs": [
    {
     "name": "stdout",
     "output_type": "stream",
     "text": [
      "Claim Per Policy: $52,762\n"
     ]
    }
   ],
   "source": [
    "# Calculate premium per policy.\n",
    "claim_per_policy = total_claim_amount / claim_count\n",
    "\n",
    "# Print total premium per policy.\n",
    "print(\"Claim Per Policy: $\" + '{:,}'.format(round(claim_per_policy, )))"
   ]
  },
  {
   "cell_type": "markdown",
   "id": "41784468-d356-4d89-9390-f25b454efd5a",
   "metadata": {},
   "source": [
    "**Observation**:\n",
    "- Total claim amount from 1,000 policies was \\$52,761,940 with claim per policy at about \\\\$52,762 (rounded to nearest dollar amount)."
   ]
  },
  {
   "cell_type": "markdown",
   "id": "f3708abd-e5f2-45f9-ad58-a6d4b1416266",
   "metadata": {},
   "source": [
    "### Total Claim Amount and Total Claim Count Breakdown By Gender"
   ]
  },
  {
   "cell_type": "markdown",
   "id": "ebfa68e8-5c8b-44c3-a8d9-040ebe7cb6da",
   "metadata": {},
   "source": [
    "![image.png](./images/tableau_claim_amount_claim_count_by_gender.png)\n",
    "![image.png](./images/tableau_claim_amount_per_policy_count_by_gender.png)"
   ]
  },
  {
   "cell_type": "markdown",
   "id": "137cc5db-9794-4ae2-a65a-7372d049109e",
   "metadata": {},
   "source": [
    "### Total Claim Amount and Total Claim Count Breakdown By Policy Issuance State"
   ]
  },
  {
   "cell_type": "markdown",
   "id": "d17cee96-bf37-49fd-9dd8-f6c2f61f4469",
   "metadata": {},
   "source": [
    "![image.png](./images/tableau_total_claim_amount_claim_count_by_policy_issuance_state.png)\n",
    "![image.png](./images/tableau_total_claim_amount_per_policy_count_by_state.png)"
   ]
  },
  {
   "cell_type": "markdown",
   "id": "4d08fb68-fa8d-4bae-b6f4-35c7cef2b6d4",
   "metadata": {},
   "source": [
    "### Total Claim Amount and Total Claim Count Breakdown By Policy Bind Year"
   ]
  },
  {
   "cell_type": "markdown",
   "id": "a5ac079a-49b3-40c9-be55-7a47d79da3e4",
   "metadata": {},
   "source": [
    "![image.png](./images/tableau_total_claim_amount_claim_count_policy_bind_year.png)\n",
    "![image.png](./images/tableau_total_claim_amount_per_policy_count_by_policy_bind_year.png)"
   ]
  },
  {
   "cell_type": "markdown",
   "id": "afd12d4a-9be1-4b1f-bf73-5e4a85a57e4c",
   "metadata": {},
   "source": [
    "### Total Claim Amount and Total Claim Count Breakdown By Insured's Occupation"
   ]
  },
  {
   "cell_type": "markdown",
   "id": "d6d764f1-06b3-4906-9939-0883935a51a7",
   "metadata": {},
   "source": [
    "![image.png](./images/tableau_total_claim_amount_claim_count_by_insured_occupation.png)\n",
    "![image.png](./images/tableau_total_claim_amount_per_claim_count_by_insured_occupation.png)"
   ]
  },
  {
   "cell_type": "markdown",
   "id": "6bb66b09-7df6-463d-8e05-14959c3d52bf",
   "metadata": {},
   "source": [
    "**Observations**:\n",
    "- Total claim amount paid in 1,000 policies was \\$52,761,940 with claim amount per policy at about \\\\$52,762 (rounded to nearest dollar amount).\n",
    "- Total Claim Amount and Total Claim Count Breakdown By Gender\n",
    "    - Between 2 gender, total amount amount, total claim count and total claim amount per policy incurred by female were higher than that of male. \n",
    "- Total Claim Amount and Total Claim Count Breakdown By Policy Issuance State\n",
    "    - Policy annual premium and policy count by Ohio were \\$18,468,450 and 352 respectively, which were the highest among all 3 states. Nonetheless, Indiana had highest total claim amount per policy count at \\\\$53,007.\n",
    "- Total Claim Amount and Total Claim Count Breakdown By Policy Bind Year\n",
    "    - Among all policy bind years, policy bind year 1990, 1991 and 1993 had the highest total claim amount, total claim count and total claim amount per policy count at \\\\$2,686,070, 55 and \\\\$60,799 respectively.\n",
    "- Total Claim Amount and Total Claim Count Breakdown By Insured's Occupation\n",
    "    - Among all insured's occupations, machine-op-inspct had the highest total claim amount and total claim count at \\\\$5,041,460 and 93 respectively. In contrast, farming-fishing had the lowest total claim amount and total claim count at \\$2,637,760 and 53 respectively.\n",
    "    - Nonetheless, insured's occupation: handlers-cleaners, had the highest total claim amount per policy count at \\\\$61,658."
   ]
  },
  {
   "cell_type": "markdown",
   "id": "105de669-8848-4b03-a21a-d9a62961bdf2",
   "metadata": {},
   "source": [
    "## Claim Ratio"
   ]
  },
  {
   "cell_type": "markdown",
   "id": "c990702f-52fe-4899-809f-3ac6581d99c1",
   "metadata": {},
   "source": [
    "In this section, claim ratio will be analyzed in details and by different features."
   ]
  },
  {
   "cell_type": "markdown",
   "id": "09dc0199-ed6e-4c85-a1ce-01b01a3d91d9",
   "metadata": {},
   "source": [
    "![image.png](./images/tableau_overall_claim_ratio.png)\n",
    "![image.png](./images/tableau_claim_ratio_gender.png)\n",
    "![image.png](./images/tableau_claim_ratio_policy_issuance_state.png)\n",
    "![image.png](./images/tableau_claim_ratio_policy_bind_year.png)\n",
    "![image.png](./images/tableau_claim_ratio_Insured_occupation.png)\n",
    "![image.png](./images/tableau_claim_ratio_Insured_education.png)\n",
    "![image.png](./images/tableau_claim_ratio_Insured_hobbies.png)\n",
    "![image.png](./images/tableau_claim_ratio_Insured_incident_type.png)\n",
    "![image.png](./images/tableau_claim_ratio_Insured_incident_severity.png)\n",
    "![image.png](./images/tableau_claim_ratio_Insured_authorities_contacted.png)\n",
    "![image.png](./images/tableau_claim_ratio_Insured_police_report.png)\n",
    "![image.png](./images/tableau_claim_ratio_Insured_property_damage.png)\n",
    "![image.png](./images/tableau_claim_ratio_collision_type.png)\n",
    "![image.png](./images/tableau_claim_ratio_car_model.png)\n",
    "![image.png](./images/tableau_claim_ratio_incident_city.png)\n",
    "![image.png](./images/tableau_claim_ratio_relationship_to_insured.png)"
   ]
  },
  {
   "cell_type": "markdown",
   "id": "a36796c2-4a08-46bb-a1e8-be5b5dfe1320",
   "metadata": {},
   "source": [
    "**Observations**:\n",
    "- Overall claim ratio was very high at 4199\\%. It means total claims amount was about 42 times of total premium collected.\n",
    "- Female had higher claim ratio at 4276\\% compared to that of male at 4112\\%.\n",
    "- Indiana had the highest claim ratio at 4222\\% among 3 states.\n",
    "- Among all policy bind years, policy bind year 2005 had the highest claim ratio at 4841\\%.\n",
    "- Among all insured's occupation, handlers-cleaners had the highest claim ratio at 4772\\%.\n",
    "- Among all insured's education, Masters had the highest claim ratio at 4433\\%.\n",
    "- Among all insured's hobbies, cross-fit had the highest claim ratio at 4843\\%.\n",
    "- Among all incident types, single vehicle collision had the highest claim ratio at 5057\\%.\n",
    "- Among all incident severity, major damage had the highest claim ratio at 5110\\%.\n",
    "- Among all authorities contacted, others had the highest claim ratio at 5184\\%.\n",
    "- Among all police report availability options, ? had the highest claim ratio at 4334\\%.\n",
    "- Among all property damage status, \"Yes\" had the highest claim ratio at 4291\\%.\n",
    "- Among all collision types, front collision had the highest claim ratio at 5188\\%.\n",
    "- Among all car models, Escape had the highest claim ratio at 5366\\%.\n",
    "- Among all incident cities, Columbus had the highest claim ratio at 4409\\%.\n",
    "- Among all relationship to insured, not in family had the highest claim ratio at 4276\\%."
   ]
  },
  {
   "cell_type": "markdown",
   "id": "d84411ab-b9e9-4f11-bb00-3557081c9757",
   "metadata": {},
   "source": [
    "## Fraud"
   ]
  },
  {
   "cell_type": "markdown",
   "id": "56c5eb4a-b1f4-4a8e-9f59-f2093cec81bc",
   "metadata": {},
   "source": [
    "In this section, fraud will be analyzed in details and by different features."
   ]
  },
  {
   "cell_type": "markdown",
   "id": "b6d3e8d2-7c75-4f2a-a06f-18ec57af4580",
   "metadata": {},
   "source": [
    "### Fraud Overview"
   ]
  },
  {
   "cell_type": "markdown",
   "id": "1d7ccc11-05ec-438c-bffb-548101891272",
   "metadata": {},
   "source": [
    "![image.png](./images/tableau_fraud_overview.png)"
   ]
  },
  {
   "cell_type": "markdown",
   "id": "557e7e91-988a-442f-ae5f-cd27d792b288",
   "metadata": {},
   "source": [
    "### Fraud Breakdown By Insured's Hobbies"
   ]
  },
  {
   "cell_type": "markdown",
   "id": "c456ac2d-a823-40af-a481-2b32c47b5860",
   "metadata": {},
   "source": [
    "![image.png](./images/tableau_fraud_breakdown_by_insured_hobbies.png)\n",
    "![image.png](./images/tableau_fraud_ratio_breakdown_by_insured_hobbies.png)"
   ]
  },
  {
   "cell_type": "markdown",
   "id": "869a390f-8fba-4591-bce8-962c5bceb2e8",
   "metadata": {},
   "source": [
    "### Fraud Breakdown By Incident Type"
   ]
  },
  {
   "cell_type": "markdown",
   "id": "b618057b-5f87-49e0-bdf2-1abbfc8220de",
   "metadata": {},
   "source": [
    "![image.png](./images/tableau_fraud_breakdown_by_incident_type.png)\n",
    "![image.png](./images/tableau_fraud_ratio_breakdown_by_incident_type.png)"
   ]
  },
  {
   "cell_type": "markdown",
   "id": "1e901f0c-1173-4091-82fb-5580660eea27",
   "metadata": {},
   "source": [
    "### Fraud Breakdown By Incident Severity"
   ]
  },
  {
   "cell_type": "markdown",
   "id": "43048713-3668-458c-a6a9-8131256e1ac8",
   "metadata": {},
   "source": [
    "![image.png](./images/tableau_fraud_breakdown_by_incident_severity.png)\n",
    "![image.png](./images/tableau_fraud_ratio_breakdown_by_incident_severity.png)"
   ]
  },
  {
   "cell_type": "markdown",
   "id": "d7ca742c-0b1e-41b6-ae91-948c498239b2",
   "metadata": {},
   "source": [
    "### Fraud Breakdown By Authorities Contacted"
   ]
  },
  {
   "cell_type": "markdown",
   "id": "f60cf6f3-e3a2-46ee-9f20-c39677e3285a",
   "metadata": {},
   "source": [
    "![image.png](./images/tableau_fraud_breakdown_by_authorities_contacted.png)\n",
    "![image.png](./images/tableau_fraud_ratio_breakdown_by_authorities_contacted.png)"
   ]
  },
  {
   "cell_type": "markdown",
   "id": "c2ceeda2-5269-4f57-aecd-f89c0d7f3129",
   "metadata": {},
   "source": [
    "### Fraud Breakdown By Property Damage"
   ]
  },
  {
   "cell_type": "markdown",
   "id": "7b158b93-64e3-4946-ad75-dc1c80601278",
   "metadata": {},
   "source": [
    "![image.png](./images/tableau_fraud_breakdown_by_property_damage.png)\n",
    "![image.png](./images/tableau_fraud_ratio_breakdown_by_property_damage.png)"
   ]
  },
  {
   "cell_type": "markdown",
   "id": "051fc924-dfce-4b9d-8105-af443a6b6c7f",
   "metadata": {},
   "source": [
    "**Observations**:\n",
    "- Although number of fraudulent insurance claims was 247, claim ratio was significantly at 4823%. It means total claim amount from fraudulent insurance claims was 48 times of total premium collected from the same number of policies.\n",
    "- Insureds, whose hobbies were chess or cross-fit, were highly likely to commit fraud, with fraud ratio at 83% and 74% respectively.\n",
    "- For Incidents types vehicle theft or incident type parked car, as their fraud ratio were at 9% and 10% respectively, these incidents types were not likely to be fraudulent.\n",
    "- For Incidents severity minor damage or total loss or trivial damage, as their fraud ratio were at 11%, 13% and 7% respectively, incidents with these severity were not likely to be fraudulent.\n",
    "- For no property damage, as fraud ratio was at %, incidents with no property damage were not likely to be fraudulent."
   ]
  },
  {
   "cell_type": "markdown",
   "id": "b5127afc-99fe-4b9c-b639-e7be43b66947",
   "metadata": {},
   "source": [
    "Summary of fraud reported by claim count, overall claim fraud ratio and fraud ratio by insured's hobbies is this [Tableau Dashboard](https://public.tableau.com/app/profile/gerald.chin/viz/fraud_detection_on_auto_insurance_claim/fraud_detection_on_auto_insurance_claim_overview_of_fraud)."
   ]
  },
  {
   "cell_type": "markdown",
   "id": "e2162e8d-2c91-4af1-9b14-a229a596f518",
   "metadata": {},
   "source": [
    "# Conclusion"
   ]
  },
  {
   "cell_type": "markdown",
   "id": "aad258d1-ddd9-4df8-9168-af0d1537a7c4",
   "metadata": {},
   "source": [
    "Gaussian Naive Bayes is chosen as the final model as Gaussian Naive Bayes \n",
    "- is not overfitting;\n",
    "- has highest testing ROC AUC at 86%;\n",
    "- has high f1 score at 74%; and\n",
    "- can do better classification based on small dataset. ([source](https://www.educba.com/naive-bayes-vs-logistic-regression)).\n",
    "\n",
    "This model helps to predict fraud and reduce loss from fraud claims, which translates to saving."
   ]
  },
  {
   "cell_type": "markdown",
   "id": "5ee3d431-23a2-4f8e-b757-66a727680f41",
   "metadata": {},
   "source": [
    "# Recommendations"
   ]
  },
  {
   "cell_type": "markdown",
   "id": "63a564a9-b497-4199-9826-52cbf585969f",
   "metadata": {},
   "source": [
    "These are the limitations observed:\n",
    "- dataset is small, with data from 1 Jan 2015 to 1 March 2015;\n",
    "- results generalizability limited to Ohio, Illinois and Indiana;\n",
    "- no description for certain columns such as _c39, policy_csl and insured_relationship;\n",
    "- no information on the source of data, whether it is from one insurance company, a few companies or more; and\n",
    "- Naïve Bayes model do not work well if features are correlated.\n",
    "\n",
    "Hence, it is recommended to \n",
    "- seek clarification on data source and data description; and\n",
    "- continuous training and improving model with more data."
   ]
  }
 ],
 "metadata": {
  "kernelspec": {
   "display_name": "Python 3 (ipykernel)",
   "language": "python",
   "name": "python3"
  },
  "language_info": {
   "codemirror_mode": {
    "name": "ipython",
    "version": 3
   },
   "file_extension": ".py",
   "mimetype": "text/x-python",
   "name": "python",
   "nbconvert_exporter": "python",
   "pygments_lexer": "ipython3",
   "version": "3.8.13"
  }
 },
 "nbformat": 4,
 "nbformat_minor": 5
}
